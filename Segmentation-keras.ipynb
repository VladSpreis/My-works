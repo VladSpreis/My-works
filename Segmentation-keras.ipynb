{
  "cells": [
    {
      "cell_type": "code",
      "execution_count": null,
      "id": "4b6185d5",
      "metadata": {
        "execution": {
          "iopub.execute_input": "2022-03-10T09:11:50.476200Z",
          "iopub.status.busy": "2022-03-10T09:11:50.474329Z",
          "iopub.status.idle": "2022-03-10T09:11:55.076980Z",
          "shell.execute_reply": "2022-03-10T09:11:55.076395Z",
          "shell.execute_reply.started": "2022-03-10T09:02:43.100251Z"
        },
        "id": "4b6185d5",
        "papermill": {
          "duration": 4.642629,
          "end_time": "2022-03-10T09:11:55.077132",
          "exception": false,
          "start_time": "2022-03-10T09:11:50.434503",
          "status": "completed"
        },
        "tags": []
      },
      "outputs": [],
      "source": [
        "import pandas as pd\n",
        "import numpy as np\n",
        "import matplotlib.pyplot as plt\n",
        "from pathlib import Path\n",
        "from keras.preprocessing import image\n",
        "\n",
        "import keras.backend as K\n",
        "import keras\n",
        "from IPython.display import clear_output\n"
      ]
    },
    {
      "cell_type": "code",
      "execution_count": null,
      "id": "b9003189",
      "metadata": {
        "execution": {
          "iopub.execute_input": "2022-03-10T09:11:55.149046Z",
          "iopub.status.busy": "2022-03-10T09:11:55.148378Z",
          "iopub.status.idle": "2022-03-10T09:11:55.219210Z",
          "shell.execute_reply": "2022-03-10T09:11:55.218709Z",
          "shell.execute_reply.started": "2022-03-10T09:02:44.354494Z"
        },
        "id": "b9003189",
        "papermill": {
          "duration": 0.10892,
          "end_time": "2022-03-10T09:11:55.219401",
          "exception": false,
          "start_time": "2022-03-10T09:11:55.110481",
          "status": "completed"
        },
        "tags": []
      },
      "outputs": [],
      "source": [
        "class_dict = pd.read_csv('/content/sample_data/class_dict.csv')\n",
        "\n",
        "path_train = '/content/sample_data/train/'\n",
        "path_train_labels = '/content/sample_data/train_labels/'\n",
        "\n"
      ]
    },
    {
      "cell_type": "code",
      "source": [
        "train_images_paths = list(Path(path_train).iterdir())"
      ],
      "metadata": {
        "id": "mTbDGhcFt7q5"
      },
      "id": "mTbDGhcFt7q5",
      "execution_count": null,
      "outputs": []
    },
    {
      "cell_type": "code",
      "source": [
        "path_test = '/content/sample_data/test/'\n",
        "path_test_labels = '/content/sample_data/test_labels/'\n",
        "path_val = '/content/sample_data/val/'\n",
        "path_val_labels = '/content/sample_data/val_labels/'\n"
      ],
      "metadata": {
        "id": "PSykE8iZt1OP"
      },
      "id": "PSykE8iZt1OP",
      "execution_count": null,
      "outputs": []
    },
    {
      "cell_type": "code",
      "execution_count": null,
      "id": "e9476cbb",
      "metadata": {
        "execution": {
          "iopub.execute_input": "2022-03-10T09:11:55.291274Z",
          "iopub.status.busy": "2022-03-10T09:11:55.290744Z",
          "iopub.status.idle": "2022-03-10T09:11:55.313998Z",
          "shell.execute_reply": "2022-03-10T09:11:55.314432Z",
          "shell.execute_reply.started": "2022-03-10T09:02:44.645201Z"
        },
        "id": "e9476cbb",
        "papermill": {
          "duration": 0.060159,
          "end_time": "2022-03-10T09:11:55.314556",
          "exception": false,
          "start_time": "2022-03-10T09:11:55.254397",
          "status": "completed"
        },
        "tags": []
      },
      "outputs": [],
      "source": [
        "single_image = image.load_img(train_images_paths[0])\n",
        "image_size = (int(single_image.size[0]/2), single_image.size[1])"
      ]
    },
    {
      "cell_type": "code",
      "execution_count": null,
      "id": "0232d1b5",
      "metadata": {
        "execution": {
          "iopub.execute_input": "2022-03-10T09:11:55.452858Z",
          "iopub.status.busy": "2022-03-10T09:11:55.452089Z",
          "iopub.status.idle": "2022-03-10T09:11:55.630866Z",
          "shell.execute_reply": "2022-03-10T09:11:55.630162Z",
          "shell.execute_reply.started": "2022-03-10T09:02:45.183283Z"
        },
        "id": "0232d1b5",
        "papermill": {
          "duration": 0.217505,
          "end_time": "2022-03-10T09:11:55.630970",
          "exception": false,
          "start_time": "2022-03-10T09:11:55.413465",
          "status": "completed"
        },
        "tags": []
      },
      "outputs": [],
      "source": [
        "train_imgs_paths = list(sorted(Path(path_train).iterdir()))\n",
        "train_masks_paths = list(sorted(Path(path_train_labels).iterdir()))\n",
        "test_imgs_paths = list(sorted(Path(path_test).iterdir()))\n",
        "test_masks_paths = list(sorted(Path(path_test_labels).iterdir()))\n",
        "val_imgs_paths = list(sorted(Path(path_val).iterdir()))\n",
        "val_masks_paths = list(sorted(Path(path_val_labels).iterdir()))"
      ]
    },
    {
      "cell_type": "code",
      "execution_count": null,
      "id": "254890de",
      "metadata": {
        "execution": {
          "iopub.execute_input": "2022-03-10T09:11:55.700928Z",
          "iopub.status.busy": "2022-03-10T09:11:55.700094Z",
          "iopub.status.idle": "2022-03-10T09:11:55.701840Z",
          "shell.execute_reply": "2022-03-10T09:11:55.702280Z",
          "shell.execute_reply.started": "2022-03-10T09:02:45.410731Z"
        },
        "id": "254890de",
        "papermill": {
          "duration": 0.038522,
          "end_time": "2022-03-10T09:11:55.702406",
          "exception": false,
          "start_time": "2022-03-10T09:11:55.663884",
          "status": "completed"
        },
        "tags": []
      },
      "outputs": [],
      "source": [
        "image_size = (128, 192)"
      ]
    },
    {
      "cell_type": "code",
      "execution_count": null,
      "id": "16afb1fa",
      "metadata": {
        "execution": {
          "iopub.execute_input": "2022-03-10T09:11:55.773339Z",
          "iopub.status.busy": "2022-03-10T09:11:55.772812Z",
          "iopub.status.idle": "2022-03-10T09:12:14.791785Z",
          "shell.execute_reply": "2022-03-10T09:12:14.791323Z",
          "shell.execute_reply.started": "2022-03-10T09:02:45.617351Z"
        },
        "id": "16afb1fa",
        "papermill": {
          "duration": 19.056474,
          "end_time": "2022-03-10T09:12:14.791921",
          "exception": false,
          "start_time": "2022-03-10T09:11:55.735447",
          "status": "completed"
        },
        "tags": []
      },
      "outputs": [],
      "source": [
        "train_images = []\n",
        "train_masks = []\n",
        "\n",
        "for i_img, i_mask in zip(train_imgs_paths, train_masks_paths):\n",
        "    train_images.append(image.load_img(i_img, target_size=image_size))\n",
        "    train_masks.append(image.load_img(i_mask, target_size=image_size))"
      ]
    },
    {
      "cell_type": "code",
      "execution_count": null,
      "id": "37b11c67",
      "metadata": {
        "execution": {
          "iopub.execute_input": "2022-03-10T09:12:14.863862Z",
          "iopub.status.busy": "2022-03-10T09:12:14.863297Z",
          "iopub.status.idle": "2022-03-10T09:12:26.132269Z",
          "shell.execute_reply": "2022-03-10T09:12:26.131306Z",
          "shell.execute_reply.started": "2022-03-10T09:03:04.107883Z"
        },
        "id": "37b11c67",
        "papermill": {
          "duration": 11.306245,
          "end_time": "2022-03-10T09:12:26.132424",
          "exception": false,
          "start_time": "2022-03-10T09:12:14.826179",
          "status": "completed"
        },
        "tags": []
      },
      "outputs": [],
      "source": [
        "test_images = []\n",
        "test_masks = []\n",
        "\n",
        "for i_img, i_mask in zip(test_imgs_paths, test_masks_paths):\n",
        "    test_images.append(image.load_img(i_img, target_size=image_size))\n",
        "    test_masks.append(image.load_img(i_mask, target_size=image_size))"
      ]
    },
    {
      "cell_type": "code",
      "execution_count": null,
      "id": "f363dca7",
      "metadata": {
        "execution": {
          "iopub.execute_input": "2022-03-10T09:12:26.203957Z",
          "iopub.status.busy": "2022-03-10T09:12:26.203434Z",
          "iopub.status.idle": "2022-03-10T09:12:31.172649Z",
          "shell.execute_reply": "2022-03-10T09:12:31.171709Z",
          "shell.execute_reply.started": "2022-03-10T09:03:15.561136Z"
        },
        "id": "f363dca7",
        "papermill": {
          "duration": 5.006808,
          "end_time": "2022-03-10T09:12:31.172793",
          "exception": false,
          "start_time": "2022-03-10T09:12:26.165985",
          "status": "completed"
        },
        "tags": []
      },
      "outputs": [],
      "source": [
        "val_images = []\n",
        "val_masks = []\n",
        "\n",
        "for i_img, i_mask in zip(val_imgs_paths, val_masks_paths):\n",
        "    val_images.append(image.load_img(i_img, target_size=image_size))\n",
        "    val_masks.append(image.load_img(i_mask, target_size=image_size))"
      ]
    },
    {
      "cell_type": "code",
      "execution_count": null,
      "id": "d0c3ea76",
      "metadata": {
        "execution": {
          "iopub.execute_input": "2022-03-10T09:12:31.704379Z",
          "iopub.status.busy": "2022-03-10T09:12:31.703523Z",
          "iopub.status.idle": "2022-03-10T09:12:31.826232Z",
          "shell.execute_reply": "2022-03-10T09:12:31.826825Z",
          "shell.execute_reply.started": "2022-03-10T09:03:20.813997Z"
        },
        "id": "d0c3ea76",
        "outputId": "0aa64291-fa28-4797-e64a-0dc98738acc0",
        "papermill": {
          "duration": 0.165955,
          "end_time": "2022-03-10T09:12:31.827021",
          "exception": false,
          "start_time": "2022-03-10T09:12:31.661066",
          "status": "completed"
        },
        "tags": []
      },
      "outputs": [
        {
          "name": "stdout",
          "output_type": "stream",
          "text": [
            "(369, 128, 192, 3)\n"
          ]
        }
      ],
      "source": [
        "X_train = []\n",
        "\n",
        "for img in train_images:\n",
        "  x = image.img_to_array(img)\n",
        "  X_train.append(x)\n",
        "\n",
        "X_train = np.array(X_train)"
      ]
    },
    {
      "cell_type": "code",
      "execution_count": null,
      "id": "6c547474",
      "metadata": {
        "execution": {
          "iopub.execute_input": "2022-03-10T09:12:31.916262Z",
          "iopub.status.busy": "2022-03-10T09:12:31.910553Z",
          "iopub.status.idle": "2022-03-10T09:12:31.997712Z",
          "shell.execute_reply": "2022-03-10T09:12:31.998177Z",
          "shell.execute_reply.started": "2022-03-10T09:03:20.944596Z"
        },
        "id": "6c547474",
        "outputId": "b0d68eac-7410-4e32-efe7-11e59ed08432",
        "papermill": {
          "duration": 0.131295,
          "end_time": "2022-03-10T09:12:31.998347",
          "exception": false,
          "start_time": "2022-03-10T09:12:31.867052",
          "status": "completed"
        },
        "tags": []
      },
      "outputs": [
        {
          "name": "stdout",
          "output_type": "stream",
          "text": [
            "(232, 128, 192, 3)\n"
          ]
        }
      ],
      "source": [
        "X_test = []\n",
        "\n",
        "for img in test_images:\n",
        "  x = image.img_to_array(img)\n",
        "  X_test.append(x)\n",
        "\n",
        "X_test = np.array(X_test)\n",
        "print(X_test.shape)"
      ]
    },
    {
      "cell_type": "code",
      "execution_count": null,
      "id": "fa06ada7",
      "metadata": {
        "execution": {
          "iopub.execute_input": "2022-03-10T09:12:32.085436Z",
          "iopub.status.busy": "2022-03-10T09:12:32.084598Z",
          "iopub.status.idle": "2022-03-10T09:12:32.121953Z",
          "shell.execute_reply": "2022-03-10T09:12:32.121456Z",
          "shell.execute_reply.started": "2022-03-10T09:03:21.033156Z"
        },
        "id": "fa06ada7",
        "outputId": "cfc5209e-5fa8-4055-ece0-8fa58c534b70",
        "papermill": {
          "duration": 0.084185,
          "end_time": "2022-03-10T09:12:32.122070",
          "exception": false,
          "start_time": "2022-03-10T09:12:32.037885",
          "status": "completed"
        },
        "tags": []
      },
      "outputs": [
        {
          "name": "stdout",
          "output_type": "stream",
          "text": [
            "(100, 128, 192, 3)\n"
          ]
        }
      ],
      "source": [
        "X_val = []\n",
        "\n",
        "for img in val_images:\n",
        "  x = image.img_to_array(img)\n",
        "  X_val.append(x)\n",
        "\n",
        "X_val = np.array(X_val)\n",
        "print(X_val.shape)"
      ]
    },
    {
      "cell_type": "code",
      "execution_count": null,
      "id": "6af739dd",
      "metadata": {
        "execution": {
          "iopub.execute_input": "2022-03-10T09:12:32.383454Z",
          "iopub.status.busy": "2022-03-10T09:12:32.382711Z",
          "iopub.status.idle": "2022-03-10T09:12:32.384647Z",
          "shell.execute_reply": "2022-03-10T09:12:32.385015Z",
          "shell.execute_reply.started": "2022-03-10T09:03:21.099664Z"
        },
        "id": "6af739dd",
        "papermill": {
          "duration": 0.049087,
          "end_time": "2022-03-10T09:12:32.385135",
          "exception": false,
          "start_time": "2022-03-10T09:12:32.336048",
          "status": "completed"
        },
        "tags": []
      },
      "outputs": [],
      "source": [
        "arr_col = []\n",
        "\n",
        "for r, g, b in zip(class_dict['r'], class_dict['g'], class_dict['b']):\n",
        "  arr_col.append([r, g, b])"
      ]
    },
    {
      "cell_type": "code",
      "execution_count": null,
      "id": "45ca4d69",
      "metadata": {
        "execution": {
          "iopub.execute_input": "2022-03-10T09:12:32.470738Z",
          "iopub.status.busy": "2022-03-10T09:12:32.470116Z",
          "iopub.status.idle": "2022-03-10T09:12:32.748443Z",
          "shell.execute_reply": "2022-03-10T09:12:32.747950Z",
          "shell.execute_reply.started": "2022-03-10T09:03:21.114018Z"
        },
        "id": "45ca4d69",
        "papermill": {
          "duration": 0.323977,
          "end_time": "2022-03-10T09:12:32.748561",
          "exception": false,
          "start_time": "2022-03-10T09:12:32.424584",
          "status": "completed"
        },
        "tags": []
      },
      "outputs": [],
      "source": [
        "import cv2\n",
        "\n",
        "\n",
        "def Color2index(y, arr_col=arr_col):\n",
        "\n",
        "    y_ind = np.zeros((y.shape[0], y.shape[1]))\n",
        "    y_cat = np.zeros((y.shape[0], y.shape[1], len(arr_col)))\n",
        "    i = 1\n",
        "    for i_color in arr_col:\n",
        "        ind_i = np.where(\n",
        "            (y[..., 0] == i_color[0])\n",
        "            & (y[..., 1] == i_color[1])\n",
        "            & (y[..., 2] == i_color[2])\n",
        "        )\n",
        "        y_ind[ind_i[0], ind_i[1]] = i\n",
        "        y_cat[ind_i[0], ind_i[1], i-1] = 1\n",
        "        i += 1\n",
        "\n",
        "    return y_cat, y_ind#, i-1"
      ]
    },
    {
      "cell_type": "code",
      "execution_count": null,
      "id": "a3336441",
      "metadata": {
        "execution": {
          "iopub.execute_input": "2022-03-10T09:12:33.116323Z",
          "iopub.status.busy": "2022-03-10T09:12:33.113423Z",
          "iopub.status.idle": "2022-03-10T09:12:33.118969Z",
          "shell.execute_reply": "2022-03-10T09:12:33.119473Z",
          "shell.execute_reply.started": "2022-03-10T09:03:21.594750Z"
        },
        "id": "a3336441",
        "outputId": "813dda52-c930-4f85-d3a3-89cc1ca9bf23",
        "papermill": {
          "duration": 0.050031,
          "end_time": "2022-03-10T09:12:33.119600",
          "exception": false,
          "start_time": "2022-03-10T09:12:33.069569",
          "status": "completed"
        },
        "tags": []
      },
      "outputs": [
        {
          "data": {
            "text/plain": [
              "array([[22., 22., 22., ..., 27., 27., 27.],\n",
              "       [22., 22., 22., ..., 27., 27., 27.],\n",
              "       [22., 22., 22., ..., 27., 27., 27.],\n",
              "       ...,\n",
              "       [20., 20., 20., ..., 31., 31., 31.],\n",
              "       [20., 20., 20., ..., 31., 31., 31.],\n",
              "       [20., 20., 20., ..., 31., 31., 31.]])"
            ]
          },
          "execution_count": 17,
          "metadata": {},
          "output_type": "execute_result"
        }
      ],
      "source": [
        "ind_yi"
      ]
    },
    {
      "cell_type": "code",
      "execution_count": null,
      "id": "8a7be2b4",
      "metadata": {
        "execution": {
          "iopub.execute_input": "2022-03-10T09:12:33.479781Z",
          "iopub.status.busy": "2022-03-10T09:12:33.479201Z",
          "iopub.status.idle": "2022-03-10T09:12:33.481816Z",
          "shell.execute_reply": "2022-03-10T09:12:33.482307Z",
          "shell.execute_reply.started": "2022-03-10T09:03:21.791626Z"
        },
        "id": "8a7be2b4",
        "outputId": "8683e590-e8c1-444f-bebb-cbc25f3290bb",
        "papermill": {
          "duration": 0.049386,
          "end_time": "2022-03-10T09:12:33.482431",
          "exception": false,
          "start_time": "2022-03-10T09:12:33.433045",
          "status": "completed"
        },
        "tags": []
      },
      "outputs": [
        {
          "data": {
            "text/plain": [
              "(128, 192, 32)"
            ]
          },
          "execution_count": 19,
          "metadata": {},
          "output_type": "execute_result"
        }
      ],
      "source": [
        "cat_yi.shape"
      ]
    },
    {
      "cell_type": "code",
      "execution_count": null,
      "id": "5e7d2a6b",
      "metadata": {
        "execution": {
          "iopub.execute_input": "2022-03-10T09:12:33.572728Z",
          "iopub.status.busy": "2022-03-10T09:12:33.571949Z",
          "iopub.status.idle": "2022-03-10T09:12:38.455479Z",
          "shell.execute_reply": "2022-03-10T09:12:38.454970Z",
          "shell.execute_reply.started": "2022-03-10T09:03:21.798394Z"
        },
        "id": "5e7d2a6b",
        "papermill": {
          "duration": 4.931039,
          "end_time": "2022-03-10T09:12:38.455620",
          "exception": false,
          "start_time": "2022-03-10T09:12:33.524581",
          "status": "completed"
        },
        "tags": []
      },
      "outputs": [],
      "source": [
        "y_train = []\n",
        "\n",
        "for mask in train_masks:\n",
        "  y_cat, _ = Color2index(image.img_to_array(mask))\n",
        "  y_train.append(y_cat)\n",
        "\n",
        "y_train = np.array(y_train)"
      ]
    },
    {
      "cell_type": "code",
      "execution_count": null,
      "id": "aa29cf27",
      "metadata": {
        "execution": {
          "iopub.execute_input": "2022-03-10T09:12:39.009178Z",
          "iopub.status.busy": "2022-03-10T09:12:39.008307Z",
          "iopub.status.idle": "2022-03-10T09:12:42.378547Z",
          "shell.execute_reply": "2022-03-10T09:12:42.377621Z",
          "shell.execute_reply.started": "2022-03-10T09:03:26.984634Z"
        },
        "id": "aa29cf27",
        "papermill": {
          "duration": 3.421859,
          "end_time": "2022-03-10T09:12:42.378691",
          "exception": false,
          "start_time": "2022-03-10T09:12:38.956832",
          "status": "completed"
        },
        "tags": []
      },
      "outputs": [],
      "source": [
        "y_test = []\n",
        "\n",
        "for mask in test_masks:\n",
        "  y_cat, _ = Color2index(image.img_to_array(mask))\n",
        "  y_test.append(y_cat)\n",
        "\n",
        "y_test = np.array(y_test)"
      ]
    },
    {
      "cell_type": "code",
      "execution_count": null,
      "id": "c552f479",
      "metadata": {
        "execution": {
          "iopub.execute_input": "2022-03-10T09:12:42.472429Z",
          "iopub.status.busy": "2022-03-10T09:12:42.471581Z",
          "iopub.status.idle": "2022-03-10T09:12:43.747664Z",
          "shell.execute_reply": "2022-03-10T09:12:43.747100Z",
          "shell.execute_reply.started": "2022-03-10T09:03:29.803394Z"
        },
        "id": "c552f479",
        "papermill": {
          "duration": 1.324344,
          "end_time": "2022-03-10T09:12:43.747798",
          "exception": false,
          "start_time": "2022-03-10T09:12:42.423454",
          "status": "completed"
        },
        "tags": []
      },
      "outputs": [],
      "source": [
        "y_val = []\n",
        "\n",
        "for mask in val_masks:\n",
        "  y_cat, _ = Color2index(image.img_to_array(mask))\n",
        "  y_val.append(y_cat)\n",
        "\n",
        "y_val = np.array(y_val)\n"
      ]
    },
    {
      "cell_type": "code",
      "execution_count": null,
      "id": "8499852f",
      "metadata": {
        "execution": {
          "iopub.execute_input": "2022-03-10T09:12:43.843866Z",
          "iopub.status.busy": "2022-03-10T09:12:43.843025Z",
          "iopub.status.idle": "2022-03-10T09:12:43.846020Z",
          "shell.execute_reply": "2022-03-10T09:12:43.846507Z",
          "shell.execute_reply.started": "2022-03-10T09:03:31.090147Z"
        },
        "id": "8499852f",
        "outputId": "148823eb-cd36-4519-ef94-331733d89135",
        "papermill": {
          "duration": 0.052534,
          "end_time": "2022-03-10T09:12:43.846636",
          "exception": false,
          "start_time": "2022-03-10T09:12:43.794102",
          "status": "completed"
        },
        "tags": []
      },
      "outputs": [
        {
          "name": "stdout",
          "output_type": "stream",
          "text": [
            "(369, 128, 192, 3)\n",
            "(369, 128, 192, 32)\n"
          ]
        }
      ],
      "source": [
        "print(X_train.shape)\n",
        "print(y_train.shape)"
      ]
    },
    {
      "cell_type": "code",
      "execution_count": null,
      "id": "47416d18",
      "metadata": {
        "execution": {
          "iopub.execute_input": "2022-03-10T09:12:43.951718Z",
          "iopub.status.busy": "2022-03-10T09:12:43.947477Z",
          "iopub.status.idle": "2022-03-10T09:12:44.245664Z",
          "shell.execute_reply": "2022-03-10T09:12:44.244909Z",
          "shell.execute_reply.started": "2022-03-10T09:03:31.101046Z"
        },
        "id": "47416d18",
        "papermill": {
          "duration": 0.355316,
          "end_time": "2022-03-10T09:12:44.245788",
          "exception": false,
          "start_time": "2022-03-10T09:12:43.890472",
          "status": "completed"
        },
        "tags": []
      },
      "outputs": [],
      "source": [
        "from keras.applications.vgg16 import VGG16, preprocess_input\n",
        "from keras.models import Model, Sequential\n",
        "from keras.layers import (Activation, Input, MaxPooling2D, BatchNormalization,\n",
        "                          Conv2D, Conv2DTranspose, concatenate)\n",
        "from tensorflow.keras.utils import plot_model\n",
        "\n",
        "\n",
        "def unet_pre_train(num_classes=32, input_shape=(128, 162, 3)):\n",
        "    pre_trained_model = VGG16(input_shape=input_shape, include_top=False, weights='imagenet')\n",
        "\n",
        "    for layer in pre_trained_model.layers[:-5]:\n",
        "        layer.trainable = False\n",
        "\n",
        "    x = pre_trained_model.layers[13].output\n",
        "    block_4_out = pre_trained_model.layers[10].output\n",
        "    block_3_out = pre_trained_model.layers[6].output\n",
        "    block_2_out = pre_trained_model.layers[3].output\n",
        "    img_input = pre_trained_model.inputs\n",
        "    print(block_4_out)\n",
        "    print(block_3_out)\n",
        "    print(block_2_out)\n",
        "\n",
        "    # UP 1\n",
        "\n",
        "    # добавили перенос из VGG16\n",
        "    x = concatenate([x, block_4_out])\n",
        "    x = Conv2D(256, (3, 3), padding='same')(x)\n",
        "    x = BatchNormalization()(x)\n",
        "    x = Activation('relu')(x)\n",
        "\n",
        "    x = Conv2D(256, (3, 3), padding='same')(x)\n",
        "    x = BatchNormalization()(x)\n",
        "    x = Activation('relu')(x)\n",
        "\n",
        "\n",
        "    # UP 2\n",
        "    x = Conv2DTranspose(256, (2, 2), strides=(2, 2), padding='same')(x)\n",
        "    x = BatchNormalization()(x)\n",
        "    x = Activation('relu')(x)\n",
        "\n",
        "    # добавили перенос из VGG16\n",
        "    x = concatenate([x, block_3_out])\n",
        "    x = Conv2D(256, (3, 3), padding='same')(x)\n",
        "    x = BatchNormalization()(x)\n",
        "    x = Activation('relu')(x)\n",
        "\n",
        "    x = Conv2D(256, (3, 3), padding='same')(x)\n",
        "    x = BatchNormalization()(x)\n",
        "    x = Activation('relu')(x)\n",
        "\n",
        "\n",
        "    # UP 3\n",
        "    x = Conv2DTranspose(128, (2, 2), strides=(2, 2), padding='same')(x)\n",
        "    x = BatchNormalization()(x)\n",
        "    x = Activation('relu')(x)\n",
        "\n",
        "    # добавили перенос из VGG16\n",
        "    x = concatenate([x, block_2_out])\n",
        "    x = Conv2D(128, (3, 3), padding='same')(x)\n",
        "    x = BatchNormalization()(x)\n",
        "    x = Activation('relu')(x)\n",
        "\n",
        "    x = Conv2D(128, (3, 3), padding='same')(x)\n",
        "    x = BatchNormalization()(x)\n",
        "    x = Activation('relu')(x)\n",
        "\n",
        "\n",
        "    # UP 4\n",
        "    x = Conv2DTranspose(64, (2, 2), strides=(2, 2), padding='same')(x)\n",
        "    x = BatchNormalization()(x)\n",
        "    x = Activation('relu')(x)\n",
        "\n",
        "    x = Conv2D(64, (3, 3), padding='same')(x)\n",
        "    x = BatchNormalization()(x)\n",
        "    x = Activation('relu')(x)\n",
        "\n",
        "    x = Conv2D(64, (3, 3), padding='same')(x)\n",
        "    x = BatchNormalization()(x)\n",
        "    x = Activation('relu')(x)\n",
        "\n",
        "    x = Conv2D(num_classes, (3, 3), activation='softmax', padding='same')(x)\n",
        "\n",
        "    model = Model(img_input, x)\n",
        "    return model"
      ]
    },
    {
      "cell_type": "code",
      "source": [
        "model = unet_pre_train(32, (128, 192, 3))"
      ],
      "metadata": {
        "id": "Dw7aIdyquUIB"
      },
      "id": "Dw7aIdyquUIB",
      "execution_count": null,
      "outputs": []
    },
    {
      "cell_type": "code",
      "execution_count": null,
      "id": "5f791b25",
      "metadata": {
        "execution": {
          "iopub.execute_input": "2022-03-10T09:12:49.200785Z",
          "iopub.status.busy": "2022-03-10T09:12:49.197217Z",
          "iopub.status.idle": "2022-03-10T09:12:49.203956Z",
          "shell.execute_reply": "2022-03-10T09:12:49.203423Z",
          "shell.execute_reply.started": "2022-03-10T09:03:36.048410Z"
        },
        "id": "5f791b25",
        "papermill": {
          "duration": 0.081493,
          "end_time": "2022-03-10T09:12:49.204084",
          "exception": false,
          "start_time": "2022-03-10T09:12:49.122591",
          "status": "completed"
        },
        "tags": []
      },
      "outputs": [],
      "source": [
        "def dice_coef(y_true, y_pred):\n",
        "    return (2. * K.sum(y_true * y_pred)) / (K.sum(y_true) + K.sum(y_pred))"
      ]
    },
    {
      "cell_type": "code",
      "execution_count": null,
      "id": "f382f2c2",
      "metadata": {
        "execution": {
          "iopub.execute_input": "2022-03-10T09:12:49.351138Z",
          "iopub.status.busy": "2022-03-10T09:12:49.348708Z",
          "iopub.status.idle": "2022-03-10T09:12:49.393892Z",
          "shell.execute_reply": "2022-03-10T09:12:49.393357Z",
          "shell.execute_reply.started": "2022-03-10T09:03:36.057954Z"
        },
        "id": "f382f2c2",
        "outputId": "37bb624e-c8a6-4976-8e74-7ba4dc1a723f",
        "papermill": {
          "duration": 0.119417,
          "end_time": "2022-03-10T09:12:49.394000",
          "exception": false,
          "start_time": "2022-03-10T09:12:49.274583",
          "status": "completed"
        },
        "tags": []
      },
      "outputs": [
        {
          "name": "stdout",
          "output_type": "stream",
          "text": [
            "Model: \"model\"\n",
            "__________________________________________________________________________________________________\n",
            "Layer (type)                    Output Shape         Param #     Connected to                     \n",
            "==================================================================================================\n",
            "input_1 (InputLayer)            [(None, 128, 192, 3) 0                                            \n",
            "__________________________________________________________________________________________________\n",
            "block1_conv1 (Conv2D)           (None, 128, 192, 64) 1792        input_1[0][0]                    \n",
            "__________________________________________________________________________________________________\n",
            "block1_conv2 (Conv2D)           (None, 128, 192, 64) 36928       block1_conv1[0][0]               \n",
            "__________________________________________________________________________________________________\n",
            "block1_pool (MaxPooling2D)      (None, 64, 96, 64)   0           block1_conv2[0][0]               \n",
            "__________________________________________________________________________________________________\n",
            "block2_conv1 (Conv2D)           (None, 64, 96, 128)  73856       block1_pool[0][0]                \n",
            "__________________________________________________________________________________________________\n",
            "block2_conv2 (Conv2D)           (None, 64, 96, 128)  147584      block2_conv1[0][0]               \n",
            "__________________________________________________________________________________________________\n",
            "block2_pool (MaxPooling2D)      (None, 32, 48, 128)  0           block2_conv2[0][0]               \n",
            "__________________________________________________________________________________________________\n",
            "block3_conv1 (Conv2D)           (None, 32, 48, 256)  295168      block2_pool[0][0]                \n",
            "__________________________________________________________________________________________________\n",
            "block3_conv2 (Conv2D)           (None, 32, 48, 256)  590080      block3_conv1[0][0]               \n",
            "__________________________________________________________________________________________________\n",
            "block3_conv3 (Conv2D)           (None, 32, 48, 256)  590080      block3_conv2[0][0]               \n",
            "__________________________________________________________________________________________________\n",
            "block3_pool (MaxPooling2D)      (None, 16, 24, 256)  0           block3_conv3[0][0]               \n",
            "__________________________________________________________________________________________________\n",
            "block4_conv1 (Conv2D)           (None, 16, 24, 512)  1180160     block3_pool[0][0]                \n",
            "__________________________________________________________________________________________________\n",
            "block4_conv2 (Conv2D)           (None, 16, 24, 512)  2359808     block4_conv1[0][0]               \n",
            "__________________________________________________________________________________________________\n",
            "block4_conv3 (Conv2D)           (None, 16, 24, 512)  2359808     block4_conv2[0][0]               \n",
            "__________________________________________________________________________________________________\n",
            "concatenate (Concatenate)       (None, 16, 24, 768)  0           block4_conv3[0][0]               \n",
            "                                                                 block3_pool[0][0]                \n",
            "__________________________________________________________________________________________________\n",
            "conv2d (Conv2D)                 (None, 16, 24, 256)  1769728     concatenate[0][0]                \n",
            "__________________________________________________________________________________________________\n",
            "batch_normalization (BatchNorma (None, 16, 24, 256)  1024        conv2d[0][0]                     \n",
            "__________________________________________________________________________________________________\n",
            "activation (Activation)         (None, 16, 24, 256)  0           batch_normalization[0][0]        \n",
            "__________________________________________________________________________________________________\n",
            "conv2d_1 (Conv2D)               (None, 16, 24, 256)  590080      activation[0][0]                 \n",
            "__________________________________________________________________________________________________\n",
            "batch_normalization_1 (BatchNor (None, 16, 24, 256)  1024        conv2d_1[0][0]                   \n",
            "__________________________________________________________________________________________________\n",
            "activation_1 (Activation)       (None, 16, 24, 256)  0           batch_normalization_1[0][0]      \n",
            "__________________________________________________________________________________________________\n",
            "conv2d_transpose (Conv2DTranspo (None, 32, 48, 256)  262400      activation_1[0][0]               \n",
            "__________________________________________________________________________________________________\n",
            "batch_normalization_2 (BatchNor (None, 32, 48, 256)  1024        conv2d_transpose[0][0]           \n",
            "__________________________________________________________________________________________________\n",
            "activation_2 (Activation)       (None, 32, 48, 256)  0           batch_normalization_2[0][0]      \n",
            "__________________________________________________________________________________________________\n",
            "concatenate_1 (Concatenate)     (None, 32, 48, 384)  0           activation_2[0][0]               \n",
            "                                                                 block2_pool[0][0]                \n",
            "__________________________________________________________________________________________________\n",
            "conv2d_2 (Conv2D)               (None, 32, 48, 256)  884992      concatenate_1[0][0]              \n",
            "__________________________________________________________________________________________________\n",
            "batch_normalization_3 (BatchNor (None, 32, 48, 256)  1024        conv2d_2[0][0]                   \n",
            "__________________________________________________________________________________________________\n",
            "activation_3 (Activation)       (None, 32, 48, 256)  0           batch_normalization_3[0][0]      \n",
            "__________________________________________________________________________________________________\n",
            "conv2d_3 (Conv2D)               (None, 32, 48, 256)  590080      activation_3[0][0]               \n",
            "__________________________________________________________________________________________________\n",
            "batch_normalization_4 (BatchNor (None, 32, 48, 256)  1024        conv2d_3[0][0]                   \n",
            "__________________________________________________________________________________________________\n",
            "activation_4 (Activation)       (None, 32, 48, 256)  0           batch_normalization_4[0][0]      \n",
            "__________________________________________________________________________________________________\n",
            "conv2d_transpose_1 (Conv2DTrans (None, 64, 96, 128)  131200      activation_4[0][0]               \n",
            "__________________________________________________________________________________________________\n",
            "batch_normalization_5 (BatchNor (None, 64, 96, 128)  512         conv2d_transpose_1[0][0]         \n",
            "__________________________________________________________________________________________________\n",
            "activation_5 (Activation)       (None, 64, 96, 128)  0           batch_normalization_5[0][0]      \n",
            "__________________________________________________________________________________________________\n",
            "concatenate_2 (Concatenate)     (None, 64, 96, 192)  0           activation_5[0][0]               \n",
            "                                                                 block1_pool[0][0]                \n",
            "__________________________________________________________________________________________________\n",
            "conv2d_4 (Conv2D)               (None, 64, 96, 128)  221312      concatenate_2[0][0]              \n",
            "__________________________________________________________________________________________________\n",
            "batch_normalization_6 (BatchNor (None, 64, 96, 128)  512         conv2d_4[0][0]                   \n",
            "__________________________________________________________________________________________________\n",
            "activation_6 (Activation)       (None, 64, 96, 128)  0           batch_normalization_6[0][0]      \n",
            "__________________________________________________________________________________________________\n",
            "conv2d_5 (Conv2D)               (None, 64, 96, 128)  147584      activation_6[0][0]               \n",
            "__________________________________________________________________________________________________\n",
            "batch_normalization_7 (BatchNor (None, 64, 96, 128)  512         conv2d_5[0][0]                   \n",
            "__________________________________________________________________________________________________\n",
            "activation_7 (Activation)       (None, 64, 96, 128)  0           batch_normalization_7[0][0]      \n",
            "__________________________________________________________________________________________________\n",
            "conv2d_transpose_2 (Conv2DTrans (None, 128, 192, 64) 32832       activation_7[0][0]               \n",
            "__________________________________________________________________________________________________\n",
            "batch_normalization_8 (BatchNor (None, 128, 192, 64) 256         conv2d_transpose_2[0][0]         \n",
            "__________________________________________________________________________________________________\n",
            "activation_8 (Activation)       (None, 128, 192, 64) 0           batch_normalization_8[0][0]      \n",
            "__________________________________________________________________________________________________\n",
            "conv2d_6 (Conv2D)               (None, 128, 192, 64) 36928       activation_8[0][0]               \n",
            "__________________________________________________________________________________________________\n",
            "batch_normalization_9 (BatchNor (None, 128, 192, 64) 256         conv2d_6[0][0]                   \n",
            "__________________________________________________________________________________________________\n",
            "activation_9 (Activation)       (None, 128, 192, 64) 0           batch_normalization_9[0][0]      \n",
            "__________________________________________________________________________________________________\n",
            "conv2d_7 (Conv2D)               (None, 128, 192, 64) 36928       activation_9[0][0]               \n",
            "__________________________________________________________________________________________________\n",
            "batch_normalization_10 (BatchNo (None, 128, 192, 64) 256         conv2d_7[0][0]                   \n",
            "__________________________________________________________________________________________________\n",
            "activation_10 (Activation)      (None, 128, 192, 64) 0           batch_normalization_10[0][0]     \n",
            "__________________________________________________________________________________________________\n",
            "conv2d_8 (Conv2D)               (None, 128, 192, 32) 18464       activation_10[0][0]              \n",
            "==================================================================================================\n",
            "Total params: 12,365,216\n",
            "Trainable params: 4,726,240\n",
            "Non-trainable params: 7,638,976\n",
            "__________________________________________________________________________________________________\n"
          ]
        }
      ],
      "source": [
        "from tensorflow.keras.optimizers import Adam\n",
        "\n",
        "\n",
        "model.compile(optimizer=Adam(),\n",
        "                loss='categorical_crossentropy',\n",
        "                metrics=[dice_coef])\n",
        "model.summary()"
      ]
    },
    {
      "cell_type": "code",
      "execution_count": null,
      "id": "af13f619",
      "metadata": {
        "execution": {
          "iopub.execute_input": "2022-03-10T09:12:49.541447Z",
          "iopub.status.busy": "2022-03-10T09:12:49.540865Z",
          "iopub.status.idle": "2022-03-10T09:12:49.544982Z",
          "shell.execute_reply": "2022-03-10T09:12:49.544513Z",
          "shell.execute_reply.started": "2022-03-10T09:08:59.769986Z"
        },
        "id": "af13f619",
        "papermill": {
          "duration": 0.079228,
          "end_time": "2022-03-10T09:12:49.545105",
          "exception": false,
          "start_time": "2022-03-10T09:12:49.465877",
          "status": "completed"
        },
        "tags": []
      },
      "outputs": [],
      "source": [
        "sample_image = X_test[1]\n",
        "sample_mask = y_test[1]"
      ]
    },
    {
      "cell_type": "code",
      "execution_count": null,
      "id": "4816b12f",
      "metadata": {
        "execution": {
          "iopub.execute_input": "2022-03-10T09:12:49.695612Z",
          "iopub.status.busy": "2022-03-10T09:12:49.694930Z",
          "iopub.status.idle": "2022-03-10T09:12:49.700909Z",
          "shell.execute_reply": "2022-03-10T09:12:49.700364Z",
          "shell.execute_reply.started": "2022-03-10T09:11:15.494862Z"
        },
        "id": "4816b12f",
        "papermill": {
          "duration": 0.085269,
          "end_time": "2022-03-10T09:12:49.701037",
          "exception": false,
          "start_time": "2022-03-10T09:12:49.615768",
          "status": "completed"
        },
        "tags": []
      },
      "outputs": [],
      "source": [
        "def show_predictions(model):\n",
        "    pred_mask = model.predict(sample_image[None])[..., 16]\n",
        "    print(pred_mask.shape)\n",
        "\n",
        "    fig, ax = plt.subplots(1, 3, figsize=(15, 8))\n",
        "\n",
        "    ax[0].imshow(sample_image / 255.0)\n",
        "    ax[1].imshow(sample_mask[..., 16])\n",
        "    ax[2].imshow(np.squeeze(pred_mask, axis=0))\n",
        "    plt.show()\n",
        "\n",
        "\n",
        "class DisplayCallback(keras.callbacks.Callback):\n",
        "    def __init__(self, patience=1):\n",
        "        super().__init__()\n",
        "        self.patience = patience\n",
        "\n",
        "    def on_train_begin(self, logs=None):\n",
        "        self.wait = 0\n",
        "\n",
        "    def on_epoch_end(self, epoch, logs=None):\n",
        "        self.wait += 1\n",
        "        if self.wait >= self.patience:\n",
        "            clear_output(wait=True)\n",
        "            show_predictions(self.model)\n",
        "            print(f'\\nSample Prediction after epoch {epoch+1}')\n",
        "            self.wait = 0"
      ]
    },
    {
      "cell_type": "code",
      "execution_count": null,
      "id": "6951558c",
      "metadata": {
        "execution": {
          "iopub.execute_input": "2022-03-10T09:12:49.849085Z",
          "iopub.status.busy": "2022-03-10T09:12:49.848162Z",
          "iopub.status.idle": "2022-03-10T09:12:57.362407Z",
          "shell.execute_reply": "2022-03-10T09:12:57.361933Z",
          "shell.execute_reply.started": "2022-03-10T09:11:15.703386Z"
        },
        "id": "6951558c",
        "outputId": "43c57e77-8fb9-48f0-b3e1-b78e3f922c46",
        "papermill": {
          "duration": 7.590455,
          "end_time": "2022-03-10T09:12:57.362533",
          "exception": false,
          "start_time": "2022-03-10T09:12:49.772078",
          "status": "completed"
        },
        "tags": []
      },
      "outputs": [
        {
          "name": "stderr",
          "output_type": "stream",
          "text": [
            "2022-03-10 09:12:50.166462: I tensorflow/compiler/mlir/mlir_graph_optimization_pass.cc:185] None of the MLIR Optimization Passes are enabled (registered 2)\n",
            "2022-03-10 09:12:51.235202: I tensorflow/stream_executor/cuda/cuda_dnn.cc:369] Loaded cuDNN version 8005\n"
          ]
        },
        {
          "name": "stdout",
          "output_type": "stream",
          "text": [
            "(1, 128, 192)\n"
          ]
        },
        {
          "data": {
            "image/png": "[encoded data removed]",
            "text/plain": [
              "<Figure size 1080x576 with 3 Axes>"
            ]
          },
          "metadata": {
            "needs_background": "light"
          },
          "output_type": "display_data"
        }
      ],
      "source": [
        "show_predictions(model)"
      ]
    },
    {
      "cell_type": "code",
      "execution_count": null,
      "id": "4b066b2d",
      "metadata": {
        "execution": {
          "iopub.execute_input": "2022-03-10T09:12:57.505226Z",
          "iopub.status.busy": "2022-03-10T09:12:57.504427Z",
          "iopub.status.idle": "2022-03-10T09:15:23.656803Z",
          "shell.execute_reply": "2022-03-10T09:15:23.656253Z",
          "shell.execute_reply.started": "2022-03-10T09:03:47.332254Z"
        },
        "id": "4b066b2d",
        "outputId": "48d44d4d-3c02-4d80-a37c-ada7085a5fa0",
        "papermill": {
          "duration": 146.225286,
          "end_time": "2022-03-10T09:15:23.656974",
          "exception": false,
          "start_time": "2022-03-10T09:12:57.431688",
          "status": "completed"
        },
        "tags": []
      },
      "outputs": [
        {
          "name": "stdout",
          "output_type": "stream",
          "text": [
            "(1, 128, 192)\n"
          ]
        },
        {
          "data": {
            "image/png": "[encoded data removed]",
            "text/plain": [
              "<Figure size 1080x576 with 3 Axes>"
            ]
          },
          "metadata": {
            "needs_background": "light"
          },
          "output_type": "display_data"
        },
        {
          "name": "stdout",
          "output_type": "stream",
          "text": [
            "\n",
            "Sample Prediction after epoch 20\n"
          ]
        }
      ],
      "source": [
        "history = model.fit(preprocess_input(X_train), y_train,\n",
        "                      epochs=20,\n",
        "                      batch_size=10,\n",
        "                      validation_data=(preprocess_input(X_test), y_test),\n",
        "                      callbacks=[DisplayCallback(patience=5)])"
      ]
    },
    {
      "cell_type": "code",
      "execution_count": null,
      "id": "227e550a",
      "metadata": {
        "id": "227e550a",
        "papermill": {
          "duration": 0.079367,
          "end_time": "2022-03-10T09:15:28.756080",
          "exception": false,
          "start_time": "2022-03-10T09:15:28.676713",
          "status": "completed"
        },
        "tags": []
      },
      "outputs": [],
      "source": []
    }
  ],
  "metadata": {
    "kernelspec": {
      "display_name": "Python 3",
      "language": "python",
      "name": "python3"
    },
    "language_info": {
      "codemirror_mode": {
        "name": "ipython",
        "version": 3
      },
      "file_extension": ".py",
      "mimetype": "text/x-python",
      "name": "python",
      "nbconvert_exporter": "python",
      "pygments_lexer": "ipython3",
      "version": "3.7.12"
    },
    "papermill": {
      "default_parameters": {},
      "duration": 229.457386,
      "end_time": "2022-03-10T09:15:31.752943",
      "environment_variables": {},
      "exception": null,
      "input_path": "__notebook__.ipynb",
      "output_path": "__notebook__.ipynb",
      "parameters": {},
      "start_time": "2022-03-10T09:11:42.295557",
      "version": "2.3.3"
    },
    "colab": {
      "provenance": []
    }
  },
  "nbformat": 4,
  "nbformat_minor": 5
}